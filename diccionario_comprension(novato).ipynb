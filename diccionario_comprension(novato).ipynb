{
  "nbformat": 4,
  "nbformat_minor": 0,
  "metadata": {
    "colab": {
      "provenance": [],
      "collapsed_sections": [],
      "authorship_tag": "ABX9TyP/GoY35JSOXXXLu6SRtPTm",
      "include_colab_link": true
    },
    "kernelspec": {
      "name": "python3",
      "display_name": "Python 3"
    },
    "language_info": {
      "name": "python"
    }
  },
  "cells": [
    {
      "cell_type": "markdown",
      "metadata": {
        "id": "view-in-github",
        "colab_type": "text"
      },
      "source": [
        "<a href=\"https://colab.research.google.com/github/DavidJ244/PROGCOM-B2/blob/main/diccionario_comprension(novato).ipynb\" target=\"_parent\"><img src=\"https://colab.research.google.com/assets/colab-badge.svg\" alt=\"Open In Colab\"/></a>"
      ]
    },
    {
      "cell_type": "code",
      "execution_count": 20,
      "metadata": {
        "colab": {
          "base_uri": "https://localhost:8080/"
        },
        "id": "8BXd2TkHf3Ch",
        "outputId": "8a9c091d-e816-4995-9481-22d6f4256a80"
      },
      "outputs": [
        {
          "output_type": "stream",
          "name": "stdout",
          "text": [
            "{'milk': 3, 'bread': 4, 'butter': 10, 'apple': 2, 'watermelon': 5, 'banana': 4.5, 'candy': 3.2, 'water': 9, 'ice cream': 5, 'sugar': 6.5}\n"
          ]
        }
      ],
      "source": [
        "Productos =['milk','bread','butter', 'apple','watermelon','banana','candy','water','ice cream', 'sugar']\n",
        "precio = [3,4,10,2,5,4.5,3.2,9,5,6.5]\n",
        "#La función zip comprime las 2 listas, convirtiendolas en pares key-value.\n",
        "#\n",
        "precio_productos = {Productos:precio for (Productos,precio) in zip(Productos,precio)}\n",
        "\n",
        "print(precio_productos)\n",
        "\n"
      ]
    },
    {
      "cell_type": "code",
      "source": [
        "#Quiero hacerles un descuento a los productos que valen menos de 5 y ubicarlos dentro de otro diccionario.\n",
        "#Hice un diccionario a partir de otro diccionario.\n",
        "Descuentos = {Productos:precio for (Productos, precio) in precio_productos.items() if precio<5}\n",
        "\n",
        "print(Descuentos)\n",
        "\n"
      ],
      "metadata": {
        "colab": {
          "base_uri": "https://localhost:8080/"
        },
        "id": "PaDt1N_KtOKY",
        "outputId": "ce0ecf13-aef6-4691-c10f-80fd50aa871d"
      },
      "execution_count": 21,
      "outputs": [
        {
          "output_type": "stream",
          "name": "stdout",
          "text": [
            "{'milk': 3, 'bread': 4, 'apple': 2, 'banana': 4.5, 'candy': 3.2}\n"
          ]
        }
      ]
    }
  ]
}