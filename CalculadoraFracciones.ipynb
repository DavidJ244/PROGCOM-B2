{
  "nbformat": 4,
  "nbformat_minor": 0,
  "metadata": {
    "colab": {
      "provenance": [],
      "authorship_tag": "ABX9TyOp4AlBRD1+kV0RiDkzOZ8f",
      "include_colab_link": true
    },
    "kernelspec": {
      "name": "python3",
      "display_name": "Python 3"
    },
    "language_info": {
      "name": "python"
    }
  },
  "cells": [
    {
      "cell_type": "markdown",
      "metadata": {
        "id": "view-in-github",
        "colab_type": "text"
      },
      "source": [
        "<a href=\"https://colab.research.google.com/github/DavidJ244/PROGCOM-B2/blob/main/CalculadoraFracciones.ipynb\" target=\"_parent\"><img src=\"https://colab.research.google.com/assets/colab-badge.svg\" alt=\"Open In Colab\"/></a>"
      ]
    },
    {
      "cell_type": "code",
      "execution_count": 7,
      "metadata": {
        "id": "Bc6aBvDWjFW8"
      },
      "outputs": [],
      "source": [
        "class fraccion:\n",
        "  def __init__(self,num,den,pot):\n",
        "    self.num=num\n",
        "    self.den=den\n",
        "    self.pot=pot\n",
        "\n",
        "  def potencia(self):\n",
        "    if self.pot==0:\n",
        "      num=1\n",
        "      den=1\n",
        "    elif self.pot<0:\n",
        "      self.num,self.den=self.den,self.num\n",
        "      self.pot=self.pot*-1\n",
        "      num=self.num**self.pot\n",
        "      den=self.den**self.pot\n",
        "    else:\n",
        "      num=self.num**self.pot\n",
        "      den=self.den**self.pot\n",
        "      pot=self.pot\n",
        "    c=fraccion(num,den,pot)\n",
        "    print(f\"{c.num}/{c.den}\")\n",
        "    return c\n",
        "\n",
        "  def suma(self,s):\n",
        "    if self.den==0 or s.den==0:\n",
        "      print(\"No se puede hacer divicion entre 0\")\n",
        "    else:\n",
        "      if self.den!=s.den:\n",
        "        num=(self.num*s.den)+(self.den*s.num)\n",
        "        den=self.den*s.den\n",
        "      else:\n",
        "        num=(self.num*s.den)+(self.den*s.num)\n",
        "        den=self.den*s.den\n",
        "      f=Fraccion(num,dev,1)\n",
        "      print(f\"{f.num}/{f.den}\")\n",
        "      return f\n",
        "\n",
        "  def resta(self,s):\n",
        "    if self.den==0 or s.den==0:\n",
        "      print(\"No se puede hacer divicion entre 0\")\n",
        "    else:\n",
        "      if self.den!=s.den:\n",
        "        num=(self.num*s.den)+(self.den*s.num)\n",
        "        den=self.den*s.den\n",
        "      else:\n",
        "        num=(self.num*s.den)+(self.den*s.num)\n",
        "        den=self.den*s.den\n",
        "      f=Fraccion(num,dev,1)\n",
        "      print(f\"{f.num}/{f.den}\")\n",
        "      return f\n",
        "\n",
        "  def producto(self,s):\n",
        "      num=self.num*s.num\n",
        "      den=self.den*s.den\n",
        "      fr=Fraccion(num,den,1)\n",
        "      return f\"{fr.num}/{fr.den}\"\n",
        "\n",
        "  def div(self,c):\n",
        "    num=self.num*c.den\n",
        "    den=senf.den*c.num\n",
        "\n",
        "   \n",
        "\n",
        "  def imprimir(self):\n",
        "    print(f\"{self.num} / {self.den}\")"
      ]
    },
    {
      "cell_type": "code",
      "source": [
        "s=fraccion(3,5,8)\n",
        "s.potencia()"
      ],
      "metadata": {
        "colab": {
          "base_uri": "https://localhost:8080/"
        },
        "id": "-nYBKX_IqdQ_",
        "outputId": "cb0c3b74-8b59-43d8-ffbb-76fd11f180d4"
      },
      "execution_count": 8,
      "outputs": [
        {
          "output_type": "stream",
          "name": "stdout",
          "text": [
            "6561/390625\n"
          ]
        },
        {
          "output_type": "execute_result",
          "data": {
            "text/plain": [
              "<__main__.fraccion at 0x7faaa88736d0>"
            ]
          },
          "metadata": {},
          "execution_count": 8
        }
      ]
    },
    {
      "cell_type": "code",
      "source": [
        "t=Fraccion(2,5,1)\n",
        "z=Fraccion(8,8,1)\n",
        "t.producto(z)"
      ],
      "metadata": {
        "colab": {
          "base_uri": "https://localhost:8080/",
          "height": 35
        },
        "id": "W2uNmvglqg4X",
        "outputId": "7bc7fc2c-6fc1-4c70-cb42-eae812452cf1"
      },
      "execution_count": 10,
      "outputs": [
        {
          "output_type": "execute_result",
          "data": {
            "text/plain": [
              "'16/40'"
            ],
            "application/vnd.google.colaboratory.intrinsic+json": {
              "type": "string"
            }
          },
          "metadata": {},
          "execution_count": 10
        }
      ]
    }
  ]
}