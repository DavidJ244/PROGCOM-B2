{
  "cells": [
    {
      "cell_type": "markdown",
      "metadata": {
        "id": "view-in-github",
        "colab_type": "text"
      },
      "source": [
        "<a href=\"https://colab.research.google.com/github/DavidJ244/PROGCOM-B2/blob/main/Funciones2.ipynb\" target=\"_parent\"><img src=\"https://colab.research.google.com/assets/colab-badge.svg\" alt=\"Open In Colab\"/></a>"
      ]
    },
    {
      "cell_type": "markdown",
      "metadata": {
        "id": "YwhOojVoN8cI"
      },
      "source": [
        "Ejercicio 8"
      ]
    },
    {
      "cell_type": "code",
      "execution_count": 1,
      "metadata": {
        "colab": {
          "base_uri": "https://localhost:8080/"
        },
        "id": "sKSFIXkCOIKm",
        "outputId": "306e7a02-e85f-46bc-d68e-aeec8d7090e2"
      },
      "outputs": [
        {
          "name": "stdout",
          "output_type": "stream",
          "text": [
            "¿Cuantos números quiere multiplicar?2\n",
            "Número 1: 1\n",
            "Número 2: 2\n"
          ]
        },
        {
          "output_type": "execute_result",
          "data": {
            "text/plain": [
              "2"
            ]
          },
          "metadata": {},
          "execution_count": 1
        }
      ],
      "source": [
        "\n",
        "def mult (a,b):\n",
        "  m=1\n",
        "  for i in range(0,a):\n",
        "    m=m*b[i]\n",
        "  return m\n",
        "a=int(input(\"¿Cuantos números quiere multiplicar?\"))\n",
        "N=[None]*a\n",
        "for i in range(0,a):\n",
        "  N[i]=int(input(f\"Número {i+1}: \"))\n",
        "mult(a,N)"
      ]
    },
    {
      "cell_type": "markdown",
      "metadata": {
        "id": "2_tnSlGNKFqQ"
      },
      "source": [
        "Ejercicio 11"
      ]
    },
    {
      "cell_type": "code",
      "execution_count": null,
      "metadata": {
        "colab": {
          "base_uri": "https://localhost:8080/"
        },
        "id": "5OmcHIplJ6i4",
        "outputId": "8849f87d-ce60-46ed-de06-3c876fb5651c"
      },
      "outputs": [
        {
          "name": "stdout",
          "output_type": "stream",
          "text": [
            "Ingresa un número: 2\n"
          ]
        }
      ],
      "source": [
        "num=int(input(\"Ingresa un número: \"))\n",
        "def rang (a,b):\n",
        "  if num>=a and num<=b:\n",
        "    print(num, \"Esta dentro del rango\")\n",
        "  else:\n",
        "    print(num, \"No esta dentro del rango\")"
      ]
    },
    {
      "cell_type": "code",
      "execution_count": null,
      "metadata": {
        "colab": {
          "base_uri": "https://localhost:8080/"
        },
        "id": "PzeWUWc9LGll",
        "outputId": "2b424407-eda1-4246-cc55-ee8797fc62fe"
      },
      "outputs": [
        {
          "name": "stdout",
          "output_type": "stream",
          "text": [
            "2 Esta dentro del rango\n"
          ]
        }
      ],
      "source": [
        "rang (-10,5)"
      ]
    },
    {
      "cell_type": "markdown",
      "metadata": {
        "id": "K8ovp8tgLdeP"
      },
      "source": [
        "Ejercicio 14"
      ]
    },
    {
      "cell_type": "code",
      "execution_count": 2,
      "metadata": {
        "id": "8Mi-YxSOordE"
      },
      "outputs": [],
      "source": [
        "lista=[1,2,3,4,5,6,7,8,9,10,11,12,13,14,15,16,17,18,19,20]\n",
        "def elem (lista):\n",
        "  a=len(lista)\n",
        "  for i in range(0,a):\n",
        "    if lista[i]%2==0:\n",
        "      print(lista[i])"
      ]
    },
    {
      "cell_type": "code",
      "execution_count": 3,
      "metadata": {
        "id": "ejnsNOMGpH80",
        "colab": {
          "base_uri": "https://localhost:8080/"
        },
        "outputId": "5e7e4a39-1678-4d3f-bffb-8fff35f0d526"
      },
      "outputs": [
        {
          "output_type": "stream",
          "name": "stdout",
          "text": [
            "2\n",
            "4\n",
            "6\n",
            "8\n",
            "10\n",
            "12\n",
            "14\n",
            "16\n",
            "18\n",
            "20\n"
          ]
        }
      ],
      "source": [
        "\n",
        "elem (lista)"
      ]
    },
    {
      "cell_type": "markdown",
      "metadata": {
        "id": "99rrgEGXpnDG"
      },
      "source": [
        "Ejercicio 17\n"
      ]
    },
    {
      "cell_type": "code",
      "execution_count": 4,
      "metadata": {
        "id": "UbLKH2yjprSk",
        "colab": {
          "base_uri": "https://localhost:8080/"
        },
        "outputId": "19c23e69-62b2-4c77-aef6-ddd3abe6b6d3"
      },
      "outputs": [
        {
          "name": "stdout",
          "output_type": "stream",
          "text": [
            "digita una palabra: alomomola\n"
          ]
        }
      ],
      "source": [
        "a=str(input(\"digita una palabra: \"))\n",
        "def palin (a): \n",
        "  b=len(a)\n",
        "  b=a[::-1]\n",
        "  if a==b:\n",
        "    print(\"Palíndromo\")\n",
        "  else:\n",
        "    print(\"No palíndromo\")"
      ]
    },
    {
      "cell_type": "code",
      "execution_count": 5,
      "metadata": {
        "id": "DPGV77Stp9g_",
        "colab": {
          "base_uri": "https://localhost:8080/"
        },
        "outputId": "b2b76da8-c20f-49f6-c823-d398895b3377"
      },
      "outputs": [
        {
          "output_type": "stream",
          "name": "stdout",
          "text": [
            "Palíndromo\n"
          ]
        }
      ],
      "source": [
        "palin (a)"
      ]
    }
  ],
  "metadata": {
    "colab": {
      "provenance": [],
      "authorship_tag": "ABX9TyNWjrk+tvBPRtnL+f//G/Vr",
      "include_colab_link": true
    },
    "kernelspec": {
      "display_name": "Python 3",
      "name": "python3"
    },
    "language_info": {
      "name": "python"
    }
  },
  "nbformat": 4,
  "nbformat_minor": 0
}