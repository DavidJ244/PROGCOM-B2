{
  "nbformat": 4,
  "nbformat_minor": 0,
  "metadata": {
    "colab": {
      "provenance": [],
      "collapsed_sections": []
    },
    "kernelspec": {
      "name": "python3",
      "display_name": "Python 3"
    },
    "language_info": {
      "name": "python"
    }
  },
  "cells": [
    {
      "cell_type": "code",
      "execution_count": 9,
      "metadata": {
        "colab": {
          "base_uri": "https://localhost:8080/"
        },
        "id": "vwg6UQVl_I5q",
        "outputId": "43209a98-5ac0-4453-acde-c88b4cc29a66"
      },
      "outputs": [
        {
          "output_type": "stream",
          "name": "stdout",
          "text": [
            "correo: fjdf\n",
            "contraseña: dfb\n",
            "usuario incorrecto\n"
          ]
        }
      ],
      "source": [
        "def verificar (correo, contrasena):\n",
        "  if (correo == 'jvargas514@unab.edu.co' and contrasena == '123456789'):\n",
        "    return True\n",
        "  else:\n",
        "    return False \n",
        "\n",
        "def principal():\n",
        "  correo=input('correo: ')\n",
        "  contrasena=input('contraseña: ')\n",
        "  login=verificar(correo, contrasena )\n",
        "  if (login==True):\n",
        "    print('bienvenido')\n",
        "  else:\n",
        "      print('usuario incorrecto')\n",
        "\n",
        "principal()        "
      ]
    },
    {
      "cell_type": "code",
      "source": [
        "def calcularEdad (yearact,year0):\n",
        "  age=yearact-year0\n",
        "  return age\n",
        "\n",
        "actual=int(input(\"introduce el año Actual \"))\n",
        "nacimiento=int(input(\"introduce Tu fecha de nacimiento \"))\n",
        "x=calcularEdad(actual,nacimiento)\n",
        "nacimiento=int(input(\"introduce el año de nacimiento de tu amigo \"))\n",
        "y=calcularEdad(actual,nacimiento)\n",
        "\n",
        "print(f\"Mi edad es de: {x} años y la de mi amigo: {y} años\")\n"
      ],
      "metadata": {
        "colab": {
          "base_uri": "https://localhost:8080/"
        },
        "id": "_GwZz-9OOy9o",
        "outputId": "9fbafe7c-1fc3-4b84-db5a-7a1f5b4e3ce2"
      },
      "execution_count": 13,
      "outputs": [
        {
          "output_type": "stream",
          "name": "stdout",
          "text": [
            "introduce el año Actual 2022\n",
            "introduce Tu fecha de nacimiento 2005\n",
            "introduce el año de nacimiento de tu amigo 2004\n",
            "Mi edad es de: 17 años y la de mi amigo: 18 años\n"
          ]
        }
      ]
    },
    {
      "cell_type": "code",
      "source": [
        "def infoP():\n",
        "  a=input(\"Nombre: \")\n",
        "  b=input(\"Edad: \")\n",
        "  c=input(\"País: \")\n",
        "  d=f\"{a}, de {c},tiene {b} años de edad\"\n",
        "  return d\n",
        "infoP()"
      ],
      "metadata": {
        "colab": {
          "base_uri": "https://localhost:8080/",
          "height": 88
        },
        "id": "t8QQuWVSUqsb",
        "outputId": "1c3412e5-a6e0-4a9e-a07a-8a5c9aa02815"
      },
      "execution_count": 18,
      "outputs": [
        {
          "name": "stdout",
          "output_type": "stream",
          "text": [
            "Nombre: Juan\n",
            "Edad: 17\n",
            "País: Colombia\n"
          ]
        },
        {
          "output_type": "execute_result",
          "data": {
            "text/plain": [
              "'Juan, de Colombia,tiene 17 años de edad'"
            ],
            "application/vnd.google.colaboratory.intrinsic+json": {
              "type": "string"
            }
          },
          "metadata": {},
          "execution_count": 18
        }
      ]
    }
  ]
}