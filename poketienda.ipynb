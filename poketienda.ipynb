{
  "cells": [
    {
      "cell_type": "markdown",
      "metadata": {
        "id": "view-in-github",
        "colab_type": "text"
      },
      "source": [
        "<a href=\"https://colab.research.google.com/github/DavidJ244/PROGCOM-B2/blob/main/poketienda.ipynb\" target=\"_parent\"><img src=\"https://colab.research.google.com/assets/colab-badge.svg\" alt=\"Open In Colab\"/></a>"
      ]
    },
    {
      "cell_type": "code",
      "execution_count": 8,
      "metadata": {
        "id": "DA4pqnyMk8FX"
      },
      "outputs": [],
      "source": [
        "class Producto():\n",
        "  def __init__(self,producto,precio,unidad):\n",
        "    self.producto=producto\n",
        "    self.precio=precio\n",
        "    self.unidad=unidad\n",
        "\n",
        "class Carrito():\n",
        "   def __init__(self,lista=[]):\n",
        "     self.lista=[]\n",
        "   def carro(self,a):\n",
        "     for b in self.lista:\n",
        "       if b.producto==a.producto:\n",
        "         self.lista.remove(b)\n",
        "     self.lista.append(a)\n",
        "   def revisar(self):\n",
        "     tot=0\n",
        "     for a in self.lista:\n",
        "       print(f\"{a.producto} x{a.unidad} valor: ${a.precio} por unidad\")  \n",
        "       tot=tot+a.precio*a.unidad\n",
        "     print(f\"Total: {tot}\")\n",
        "     return tot\n",
        "class Factura(Carrito):\n",
        "  def factura(self,copra1,c):\n",
        "    print(\"||| FACTURA |||\")\n",
        "    tot=compra1.revisar()\n",
        "    print(\"CON IVA || 19% \")\n",
        "    if c%50==0:\n",
        "      print(f\"FELICIDADES, POR SER EL CLIENTE {c} HAS GANADO UN DECUENTO DEL 3%\")\n",
        "      tot=tot*0.97\n",
        "    print(f\"TOTAL : {round(tot*1.19,2)}\")"
      ]
    },
    {
      "cell_type": "code",
      "source": [
        "prod={\"leche mu-muu\":3,\"limonada\":2,\"agua fresca\":3,\"zumo de baya\":5,\"pokocho\":3,\"malasada\":3.5,\"galleta lava\":3,\"caramelo raro\":5}\n",
        "Adision={\"baya frambu\":2,\"baya pinia\":2.5,\"baya aranja\":0.5,\"baya latano\":1}\n",
        "Tamaños={\"pequeña\":0.8,\"normal\":1,\"grande\":1.2}\n",
        "p=\"a\"\n",
        "total=0\n",
        "gan=0\n",
        "c=0\n",
        "t=None\n",
        "tam=\"a\"\n",
        "o=\"s\"\n",
        "dia=\"s\"\n",
        "while dia.lower()[0]==\"s\":\n",
        " c=c+1\n",
        " compra1=Carrito()\n",
        " print(\"Bienvenido a la poketienda\")\n",
        " while o.lower()[0]!=\"n\":\n",
        "  if o.lower()==\"revisar\":\n",
        "    compra1.revisar()\n",
        "  else:\n",
        "   p=\"a\"\n",
        "   t=\"a\"\n",
        "   tam=\"a\"\n",
        "   while (p.lower() in prod)==False:\n",
        "    p=input(\"\\nMENU\\n\\nBEBIDAS                COMIDA\\nLeche Mu-muu  $3      Malasada  $3\\nLimonada  $2          Galleta lava  $3.5\\nAgua fresca  $3       Caramelo raro  $3 \\nZumo de baya  $5      Pokocho  $5\\n¿Que desea llevar?: \")\n",
        "    if (p.lower() in prod)==False:\n",
        "      print(\"No hay disponibilidad, intenta con otro. \")\n",
        "    cash=prod[p.lower()]\n",
        "    while (t.lower() in Adision)==False:\n",
        "     t=input(\"Adision:\\nBaya Frambu $2\\nBaya Pinia $2.5\\nBaya Aranja $0.5\\nBaya Latano $1\\n¿Que Baya desea en su orden?: \")\n",
        "     if (t.lower() in Adision)==False:\n",
        "       print(\"Esa baya no esta en nuestro catalogo. \")\n",
        "    while (tam.lower() in Tamaños)==False:\n",
        "      tam=input(\"Pequeña\\nNormal\\nGrande\\n¿De que tamaño quiere su bebida?: \")\n",
        "      if (tam.lower() in Tamaños)==False:\n",
        "       print(\"No disponible, intenta con otro. \")\n",
        "   cash=(cash+Adision[t.lower()])*Tamaños[tam.lower()]\n",
        "   p=p+\" con \"+t+\" de tamaño \"+tam\n",
        "   print(f\"{p}: ${round(cash,2)}\")\n",
        "   n=int(input(f\"¿Cuantos {p} quiere?: \"))\n",
        "   compra=Producto(p.capitalize(),cash,n)\n",
        "   compra1.carro(compra)\n",
        "  o=input(\"¿Desea comprar algo mas?\")\n",
        " factura=Factura(compra1)\n",
        " factura.factura(compra1,c)\n",
        " for z in compra1.lista:\n",
        "   total=total+z.unidad*z.precio\n",
        " gan=gan+total\n",
        " dia=input(\"¿Otro cliente?\")\n",
        "print(f\"Las ganancias del día son {gan}\")\n",
        "print(f\"Los 'impuestos' de hoy son: {round(gan*0.19,2)}\")"
      ],
      "metadata": {
        "id": "cm8ucRynSIwa",
        "colab": {
          "base_uri": "https://localhost:8080/"
        },
        "outputId": "38f65e29-1b8b-4139-a6d4-d4309de45c6a"
      },
      "execution_count": 20,
      "outputs": [
        {
          "output_type": "stream",
          "name": "stdout",
          "text": [
            "Bienvenido a la poketienda\n",
            "\n",
            "MENU\n",
            "\n",
            "BEBIDAS                COMIDA\n",
            "Leche Mu-muu  $3      Malasada  $3\n",
            "Limonada  $2          Galleta lava  $3.5\n",
            "Agua fresca  $3       Caramelo raro  $3 \n",
            "Zumo de baya  $5      Pokocho  $5\n",
            "¿Que desea llevar?: pokocho\n",
            "Adision:\n",
            "Baya Frambu $2\n",
            "Baya Pinia $2.5\n",
            "Baya Aranja $0.5\n",
            "Baya Latano $1\n",
            "¿Que Baya desea en su orden?: baya aranja\n",
            "Pequeña\n",
            "Normal\n",
            "Grande\n",
            "¿De que tamaño quiere su bebida?: grande\n",
            "pokocho con baya aranja de tamaño grande: $4.2\n",
            "¿Cuantos pokocho con baya aranja de tamaño grande quiere?: 2\n",
            "¿Desea comprar algo mas?si\n",
            "\n",
            "MENU\n",
            "\n",
            "BEBIDAS                COMIDA\n",
            "Leche Mu-muu  $3      Malasada  $3\n",
            "Limonada  $2          Galleta lava  $3.5\n",
            "Agua fresca  $3       Caramelo raro  $3 \n",
            "Zumo de baya  $5      Pokocho  $5\n",
            "¿Que desea llevar?: malasada\n",
            "Adision:\n",
            "Baya Frambu $2\n",
            "Baya Pinia $2.5\n",
            "Baya Aranja $0.5\n",
            "Baya Latano $1\n",
            "¿Que Baya desea en su orden?: baya latano\n",
            "Pequeña\n",
            "Normal\n",
            "Grande\n",
            "¿De que tamaño quiere su bebida?: pequeña\n",
            "malasada con baya latano de tamaño pequeña: $3.6\n",
            "¿Cuantos malasada con baya latano de tamaño pequeña quiere?: 1\n",
            "¿Desea comprar algo mas?no\n",
            "||| FACTURA |||\n",
            "Pokocho con baya aranja de tamaño grande x2 valor: $4.2 por unidad\n",
            "Malasada con baya latano de tamaño pequeña x1 valor: $3.6 por unidad\n",
            "Total: 12.0\n",
            "CON IVA || 19%  || CULPEN AL GOBIERNO\n",
            "TOTAL : 14.28\n",
            "¿Otro cliente?no\n",
            "Las ganancias del día son 12.0\n",
            "Los 'impuestos' de hoy son: 2.2800000000000002\n"
          ]
        }
      ]
    }
  ],
  "metadata": {
    "colab": {
      "collapsed_sections": [],
      "provenance": [],
      "include_colab_link": true
    },
    "kernelspec": {
      "display_name": "Python 3",
      "name": "python3"
    },
    "language_info": {
      "name": "python"
    }
  },
  "nbformat": 4,
  "nbformat_minor": 0
}