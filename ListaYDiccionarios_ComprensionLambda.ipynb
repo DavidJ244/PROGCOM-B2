{
  "nbformat": 4,
  "nbformat_minor": 0,
  "metadata": {
    "colab": {
      "provenance": [],
      "collapsed_sections": [],
      "authorship_tag": "ABX9TyNw2BXvzCv4JKaJJNfJs8xk",
      "include_colab_link": true
    },
    "kernelspec": {
      "name": "python3",
      "display_name": "Python 3"
    },
    "language_info": {
      "name": "python"
    }
  },
  "cells": [
    {
      "cell_type": "markdown",
      "metadata": {
        "id": "view-in-github",
        "colab_type": "text"
      },
      "source": [
        "<a href=\"https://colab.research.google.com/github/DavidJ244/PROGCOM-B2/blob/main/ListaYDiccionarios_ComprensionLambda.ipynb\" target=\"_parent\"><img src=\"https://colab.research.google.com/assets/colab-badge.svg\" alt=\"Open In Colab\"/></a>"
      ]
    },
    {
      "cell_type": "code",
      "execution_count": 1,
      "metadata": {
        "colab": {
          "base_uri": "https://localhost:8080/"
        },
        "id": "iXNhB6bGqKKa",
        "outputId": "e84cb7b1-caf7-4c69-ec72-833d2174f4a4"
      },
      "outputs": [
        {
          "output_type": "execute_result",
          "data": {
            "text/plain": [
              "{'Alex': 18,\n",
              " 'Bob': 12,\n",
              " 'Carol': 35,\n",
              " 'Dave': 63,\n",
              " 'Flow': 69,\n",
              " 'Katie': 83,\n",
              " 'Nate': 26}"
            ]
          },
          "metadata": {},
          "execution_count": 1
        }
      ],
      "source": [
        "#Santiago carvajal\n",
        "\n",
        "#Comprensión\n",
        "import random\n",
        "clientes = ['Alex', 'Bob', 'Carol', 'Dave', 'Flow', 'Katie', 'Nate']\n",
        "diccionario_descuentos = {cliente:random.randint(1,100) for cliente in clientes}\n",
        "diccionario_descuentos"
      ]
    },
    {
      "cell_type": "code",
      "source": [
        "\n",
        "import random\n",
        "clientes = ['Alex', 'Bob', 'Carol', 'Dave', 'Flow', 'Katie', 'Nate']\n",
        "diccionario_descuentos = (dict(map(lambda diccionario_descuentos: (diccionario_descuentos, random.randint(1,100)), clientes)))\n",
        "diccionario_descuentos"
      ],
      "metadata": {
        "colab": {
          "base_uri": "https://localhost:8080/"
        },
        "id": "hr_-Air-qPzh",
        "outputId": "3f127942-7d3e-4c4c-d2cb-2b5a061a9378"
      },
      "execution_count": 2,
      "outputs": [
        {
          "output_type": "execute_result",
          "data": {
            "text/plain": [
              "{'Alex': 13,\n",
              " 'Bob': 77,\n",
              " 'Carol': 8,\n",
              " 'Dave': 9,\n",
              " 'Flow': 36,\n",
              " 'Katie': 43,\n",
              " 'Nate': 78}"
            ]
          },
          "metadata": {},
          "execution_count": 2
        }
      ]
    },
    {
      "cell_type": "code",
      "source": [
        "#Juan David Vargas\n",
        "\n",
        "Productos =['milk','bread','butter', 'apple','watermelon','banana','candy','water','ice cream', 'sugar']\n",
        "precio = [3,4,10,2,5,4.5,3.2,9,5,6.5]\n",
        "#La función zip comprime las 2 listas, convirtiendolas en pares key-value.\n",
        "#\n",
        "precio_productos = {Productos:precio for (Productos,precio) in zip(Productos,precio)}\n",
        "\n",
        "print(precio_productos)"
      ],
      "metadata": {
        "colab": {
          "base_uri": "https://localhost:8080/"
        },
        "id": "Kl31KOIeqagI",
        "outputId": "f5e5308a-e9d5-451d-c1fb-0aeaac8c6ab6"
      },
      "execution_count": 5,
      "outputs": [
        {
          "output_type": "stream",
          "name": "stdout",
          "text": [
            "{'milk': 3, 'bread': 4, 'butter': 10, 'apple': 2, 'watermelon': 5, 'banana': 4.5, 'candy': 3.2, 'water': 9, 'ice cream': 5, 'sugar': 6.5}\n"
          ]
        }
      ]
    },
    {
      "cell_type": "code",
      "source": [
        "descuentos = {productos:precio for (productos, precio) in precio_productos.items() if precio<5}\n",
        "descuentos"
      ],
      "metadata": {
        "colab": {
          "base_uri": "https://localhost:8080/"
        },
        "id": "yyJkwYGmqh77",
        "outputId": "b31ed13e-a7dc-416b-b88f-2f54408a82ad"
      },
      "execution_count": 6,
      "outputs": [
        {
          "output_type": "execute_result",
          "data": {
            "text/plain": [
              "{'milk': 3, 'bread': 4, 'apple': 2, 'banana': 4.5, 'candy': 3.2}"
            ]
          },
          "metadata": {},
          "execution_count": 6
        }
      ]
    },
    {
      "cell_type": "code",
      "source": [
        "#Jaime luis\n",
        "\n",
        "Productos = {'papas': 1300, 'jugos': 1800, 'helados':2300, 'dulces':800, 'leche':4200}\n",
        "operacion = {x:y*1.19 for (x,y) in Productos.items()}\n",
        "print(f'El precio sin IVA de los productos es {Productos}')\n",
        "print(f'El precio con IVA de los productos es {operacion}')"
      ],
      "metadata": {
        "colab": {
          "base_uri": "https://localhost:8080/"
        },
        "id": "VbbieBlpq33f",
        "outputId": "680cb218-4731-43a7-9cb8-231e7283fd0b"
      },
      "execution_count": 7,
      "outputs": [
        {
          "output_type": "stream",
          "name": "stdout",
          "text": [
            "El precio sin IVA de los productos es {'papas': 1300, 'jugos': 1800, 'helados': 2300, 'dulces': 800, 'leche': 4200}\n",
            "El precio con IVA de los productos es {'papas': 1547.0, 'jugos': 2142.0, 'helados': 2737.0, 'dulces': 952.0, 'leche': 4998.0}\n"
          ]
        }
      ]
    },
    {
      "cell_type": "code",
      "source": [
        "tienda = {'papas':1300, 'jugos':1800, 'helados':2300, 'dulces':800, 'leche':4200}\n",
        "compra = ['papas', 'juegos', 'helados', 'dulces', 'leche']\n",
        "\n",
        "IVA = dict(map(lambda producto:(producto, tienda[producto]) if producto in tienda else (producto, None), compra))\n",
        "IVA"
      ],
      "metadata": {
        "colab": {
          "base_uri": "https://localhost:8080/"
        },
        "id": "5gfdchkmq8nV",
        "outputId": "ca252e06-ced5-4ea1-f18d-d7c186ef04ff"
      },
      "execution_count": 8,
      "outputs": [
        {
          "output_type": "execute_result",
          "data": {
            "text/plain": [
              "{'papas': 1300, 'juegos': None, 'helados': 2300, 'dulces': 800, 'leche': 4200}"
            ]
          },
          "metadata": {},
          "execution_count": 8
        }
      ]
    },
    {
      "cell_type": "code",
      "source": [
        "#Leandro\n",
        "#Comprensión\n",
        "def check_temp(value):\n",
        "  if value >= 70:\n",
        "    return 'hot'\n",
        "  elif 69 >= value >= 40:\n",
        "    return 'warn'\n",
        "  else:\n",
        "    return 'cold'\n",
        "\n",
        "cities = {'New York':32, 'Boston': 75, 'Los Angeles':100, 'Chicago':50}\n",
        "des_cities = {key: check_temp(value) for (key, value) in cities.items()}\n",
        "des_cities\n"
      ],
      "metadata": {
        "colab": {
          "base_uri": "https://localhost:8080/"
        },
        "id": "BsFcJgKpq__x",
        "outputId": "ec7b8d01-ec34-49bf-be4c-5e3dcd683215"
      },
      "execution_count": 9,
      "outputs": [
        {
          "output_type": "execute_result",
          "data": {
            "text/plain": [
              "{'New York': 'cold', 'Boston': 'hot', 'Los Angeles': 'hot', 'Chicago': 'warn'}"
            ]
          },
          "metadata": {},
          "execution_count": 9
        }
      ]
    },
    {
      "cell_type": "code",
      "source": [
        "#lambda\n",
        "def check_temp(value):\n",
        "  if value >= 70:\n",
        "    return 'hot'\n",
        "  elif 69 >= value >= 40:\n",
        "    return 'warn'\n",
        "  else:\n",
        "    return 'cold'\n",
        "\n",
        "cities = {'New York':32, 'Boston': 75, 'Los Angeles':100, 'Chicago':50}\n",
        "des_cities = dict[map(lambda cit: check_temp(cities.values(cit), cities.items()))]\n",
        "#Another form\n",
        "des_cities = {key: check_temp(value) for (key, value) in cities.items()}\n",
        "des_cities\n"
      ],
      "metadata": {
        "id": "RvtTF303rEpW"
      },
      "execution_count": null,
      "outputs": []
    },
    {
      "cell_type": "code",
      "source": [
        "#Sebastian\n",
        "#Tradicional\n",
        "import random \n",
        "compañeros=[]\n",
        "def aleatorio(opciones):\n",
        "  opciones = list(opciones)\n",
        "  while True:\n",
        "    x = random.choice(opciones)\n",
        "    opciones.remove(x)\n",
        "    yield x\n",
        "\n",
        "print(\"Para no agregar mas nombres escribe '0'\")\n",
        "a='t'\n",
        "while a!=0:\n",
        "  a = (input(\"Ingresa el nombre de tu compañero: \"))\n",
        "  if a!='0':\n",
        "    compañeros.append(a)\n",
        "  cantidad = len(compañeros)\n",
        "  contador = 0\n",
        "  numeros = []\n",
        "\n",
        "while contador != (cantidad+1):\n",
        "  contador+-1\n",
        "  numeros.append(contador)\n",
        "alt = aleatorio(numeros)\n",
        "num_alt = {}\n",
        "for s in range(cantidad):\n",
        "  num_alt[compañeros[s]]=next(alt)\n",
        "print(num_alt)\n"
      ],
      "metadata": {
        "id": "1uhkUQeprHus"
      },
      "execution_count": null,
      "outputs": []
    },
    {
      "cell_type": "code",
      "source": [
        "#Comprensión\n",
        "import random \n",
        "compañeros=[]\n",
        "def aleatorio(opciones):\n",
        "  opciones = list(opciones)\n",
        "  while True:\n",
        "    x = random.choice(opciones)\n",
        "    opciones.remove(x)\n",
        "    yield x\n",
        "\n",
        "print(\"Para no agregar mas nombres escribe '0'\")\n",
        "a='t'\n",
        "while a!=0:\n",
        "  a = (input(\"Ingresa el nombre de tu compañero: \"))\n",
        "  if a!='0':\n",
        "    compañeros.append(a)\n",
        "cantidad = len(compañeros)\n",
        "contador = 0\n",
        "numeros = [num for num in range(1, (cantidad+1))]\n",
        "alt = aleatorio(numeros)\n",
        "num_alt = {orden:next(alt) for orden in compañeros}\n",
        "print(num_alt)"
      ],
      "metadata": {
        "id": "4flRMN5lrbOy"
      },
      "execution_count": null,
      "outputs": []
    },
    {
      "cell_type": "code",
      "source": [
        "#lambda\n",
        "print(\"Para no agregar mas nombres escribe '0'\")\n",
        "a='t'\n",
        "while a!=0:\n",
        "  a = (input(\"Ingresa el nombre de tu compañero: \"))\n",
        "  if a!='0':\n",
        "    compañeros.append(a)\n",
        "cantidad = len(compañeros)\n",
        "valores = [n for n in range (1, cantidad+1)]\n",
        "numeros = list(map(lambda num: num, valores))\n",
        "alt = aleatorio(numeros)\n",
        "num_alt = dict (map(lambda orden: orden, next(alt), compañeros))\n",
        "num_alt"
      ],
      "metadata": {
        "id": "BD1_c5iQrxle"
      },
      "execution_count": null,
      "outputs": []
    },
    {
      "cell_type": "code",
      "source": [
        "#Daniel Rodriguez\n",
        "\n",
        "#tradicional\n",
        "import random\n",
        "diccionario = ['cliente 1', 'cliente 2', 'cliente 3', 'cliente 4', 'cliente 5']\n",
        "tienda = (dict(map(lambda tienda:(tienda, random.randint(1000,100000)), diccionario)))\n",
        "tienda_sort = sorted(tienda.values())\n",
        "mayor = tienda_sort[-1]\n",
        "mayor1 = tienda_sort[4::]\n",
        "cliente = list(tienda.values()).index(mayor)\n",
        "if cliente==0:\n",
        "  a='cliente 1'\n",
        "if cliente==1:\n",
        "  a='cliente 2'\n",
        "if cliente==2:\n",
        "  a='cliente 3'\n",
        "if cliente==3:\n",
        "  a='cliente 4'\n",
        "if cliente==4:\n",
        "  a='cliente 5'\n",
        "oferta = {producto*0.8 for producto in mayor1}\n",
        "print(f'El {a} tuvo la mayor compra con un valor de {mayor}, por lo tanto obtuvo un descuento del 20%, su total fue {oferta}')"
      ],
      "metadata": {
        "colab": {
          "base_uri": "https://localhost:8080/"
        },
        "id": "CHE3LBgnrzA_",
        "outputId": "3fcaf51b-ffe5-4b9c-fdbb-3ad76f9d6a5a"
      },
      "execution_count": 15,
      "outputs": [
        {
          "output_type": "stream",
          "name": "stdout",
          "text": [
            "El cliente 2 tuvo la mayor compra con un valor de 62830, por lo tanto obtuvo un descuento del 20%, su total fue {50264.0}\n"
          ]
        }
      ]
    },
    {
      "cell_type": "code",
      "source": [
        "#función\n",
        "diccionario = ['cliente 1', 'cliente 2', 'cliente 3', 'cliente 4', 'cliente 5']\n",
        "def cositas(a):\n",
        "  tienda = (dict(map(lambda tienda:(tienda, random.randint(1000,100000)), diccionario)))\n",
        "  tienda_sort = sorted(tienda.values())\n",
        "  mayor = tienda_sort[-1]\n",
        "  mayor1 = tienda_sort[4::]\n",
        "  cliente = list(tienda.values()).index(mayor)\n",
        "  if cliente==0:\n",
        "    a='cliente 1'\n",
        "  if cliente==1:\n",
        "    a='cliente 2'\n",
        "  if cliente==2:\n",
        "    a='cliente 3'\n",
        "  if cliente==3:\n",
        "    a='cliente 4'\n",
        "  if cliente==4:\n",
        "    a='cliente 5'\n",
        "  oferta = {producto*0.8 for producto in mayor1}\n",
        "  print(f'El {a} tuvo la mayor compra con un valor de {mayor}, por lo tanto obtuvo un descuento del 20%, su total fue {oferta}')\n",
        "cositas(diccionario)"
      ],
      "metadata": {
        "colab": {
          "base_uri": "https://localhost:8080/"
        },
        "id": "s23aQkDPsDur",
        "outputId": "33024356-a508-4478-e736-536594050d73"
      },
      "execution_count": 16,
      "outputs": [
        {
          "output_type": "stream",
          "name": "stdout",
          "text": [
            "El cliente 3 tuvo la mayor compra con un valor de 75818, por lo tanto obtuvo un descuento del 20%, su total fue {60654.4}\n"
          ]
        }
      ]
    },
    {
      "cell_type": "code",
      "source": [
        "#por lambda\n",
        "import random\n",
        "diccionario = ['cliente 1', 'cliente 2', 'cliente 3', 'cliente 4', 'cliente 5']\n",
        "tienda = (dict(map(lambda tienda:(tienda, random.randint(1000,100000)), diccionario)))\n",
        "tienda_sort = sorted(tienda.values())\n",
        "mayor = tienda_sort[-1]\n",
        "mayor1 = tienda_sort[4::]\n",
        "oferta = {producto*0.8 for producto in mayor1}\n",
        "cositas = max(tienda, key = tienda.get)\n",
        "print(f'El {cositas} tuvo la mayor compra con un valor de {mayor}, por lo tanto obtuvo un descuento del 20%, su total fue {oferta}')"
      ],
      "metadata": {
        "colab": {
          "base_uri": "https://localhost:8080/"
        },
        "id": "-Wb90AmqsRFa",
        "outputId": "5e281231-10a4-4157-d585-413166f88773"
      },
      "execution_count": 17,
      "outputs": [
        {
          "output_type": "stream",
          "name": "stdout",
          "text": [
            "El cliente 3 tuvo la mayor compra con un valor de 69394, por lo tanto obtuvo un descuento del 20%, su total fue {55515.200000000004}\n"
          ]
        }
      ]
    },
    {
      "cell_type": "code",
      "source": [
        "#Adrian parra\n",
        "\n",
        "#Comprensión\n",
        "nombre = str(input('Ingrese el nombre del atleta'))\n",
        "n = int(input(\"Ingrese le numero de saltos \"))\n",
        "\n",
        "def fun(nombre, a):\n",
        "  lista = []\n",
        "  for i in range (0,a):\n",
        "    name = str(f'Salto {i+1}')\n",
        "    lista.append(name)\n",
        "  \n",
        "  print(\"La altura de los saltos se mide en metros\")\n",
        "  dic_lista = {lista: float(input(f'Ingrese la altura del salto ')) for lista in lista}\n",
        "  distancia = sorted(dic_lista.values())\n",
        "  mayor = distancia[-1]\n",
        "  print(f'Atleta {nombre} ')\n",
        "  print(dic_lista)\n",
        "  sum=0\n",
        "  for i in dic_lista.values():\n",
        "    sum+=1\n",
        "  prom = sum/a\n",
        "  redprom = round(prom,2)\n",
        "  print(f'El promedio de los {a} saltos es de {redprom} metros, teniendo que el mayor fue aquel con {mayor} metros de altura')\n",
        "\n",
        "fun(nombre, n)3\n"
      ],
      "metadata": {
        "colab": {
          "base_uri": "https://localhost:8080/"
        },
        "id": "8hHAin9rsTNy",
        "outputId": "558ed17c-fbb4-4127-a9b6-0cc046a0c267"
      },
      "execution_count": 19,
      "outputs": [
        {
          "output_type": "stream",
          "name": "stdout",
          "text": [
            "Ingrese el nombre del atletaJUAN\n",
            "Ingrese le numero de saltos 2\n",
            "La altura de los saltos se mide en metros\n",
            "Ingrese la altura del salto 1\n",
            "Ingrese la altura del salto 2\n",
            "Atleta JUAN \n",
            "{'Salto 1': 1.0, 'Salto 2': 2.0}\n",
            "El promedio de los 2 saltos es de 1.0 metros, teniendo que el mayor fue aquel con 2.0 metros de altura\n"
          ]
        }
      ]
    },
    {
      "cell_type": "code",
      "source": [
        "#lambda\n",
        "from functools import reduce\n",
        "\n",
        "nombre = str(input('Ingrese el nombre del atleta '))\n",
        "a = int(input(\"Ingrese el numero de saltos \"))\n",
        "\n",
        "lista = []\n",
        "for i in range (0,a):\n",
        "  name = str(f'Salto {i+1}')\n",
        "  lista.append(name)\n",
        "\n",
        "print(\"La altura de los saltos se mide en metros\")\n",
        "dic_lista = {lista: float(input(f'Ingrese la altura del salto ')) for lista in lista}\n",
        "distancia = sorted(dic_lista.values())\n",
        "mayor = distancia[-1]\n",
        "print(f'Atleta {nombre} ')\n",
        "print(dic_lista)\n",
        "sum=0\n",
        "for i in dic_lista.values():\n",
        "  sum+=1\n",
        "prom = sum/a\n",
        "redprom = round(prom,2)\n",
        "print(f'El promedio de los {a} saltos es de {redprom} metros, teniendo que el mayor fue aquel con {mayor} metros de altura')"
      ],
      "metadata": {
        "colab": {
          "base_uri": "https://localhost:8080/"
        },
        "id": "8g6AGMNMsqM0",
        "outputId": "338eb764-9767-4ec9-a61b-212f1988ea02"
      },
      "execution_count": 20,
      "outputs": [
        {
          "output_type": "stream",
          "name": "stdout",
          "text": [
            "Ingrese el nombre del atleta JUAN\n",
            "Ingrese el numero de saltos 1\n",
            "La altura de los saltos se mide en metros\n",
            "Ingrese la altura del salto 2\n",
            "Atleta JUAN \n",
            "{'Salto 1': 2.0}\n",
            "El promedio de los 1 saltos es de 1.0 metros, teniendo que el mayor fue aquel con 2.0 metros de altura\n"
          ]
        }
      ]
    },
    {
      "cell_type": "code",
      "source": [
        "#Santiago Galindo\n",
        "#tradicional\n",
        "import random\n",
        "cs = ['Andru', 'David', 'Sebas']\n",
        "CS = ['Andres', 'Flowey', 'Cata', 'Karen']\n",
        "DD = {cs:random.randint(1,50) for cs in cs}\n",
        "DD1 = {CS:random.randint(1,50) for CS in CS}\n",
        "print(DD, DD1)\n"
      ],
      "metadata": {
        "colab": {
          "base_uri": "https://localhost:8080/"
        },
        "id": "xDEkN9yyswg0",
        "outputId": "53749372-3974-4abd-e4b6-f47f7cd770f3"
      },
      "execution_count": 21,
      "outputs": [
        {
          "output_type": "stream",
          "name": "stdout",
          "text": [
            "{'Andru': 7, 'David': 27, 'Sebas': 12} {'Andres': 25, 'Flowey': 8, 'Cata': 34, 'Karen': 39}\n"
          ]
        }
      ]
    },
    {
      "cell_type": "code",
      "source": [
        "#def\n",
        "import random\n",
        "def A ():\n",
        "  cs = ['Andru', 'David', 'Sebas']\n",
        "  CS = ['Andres', 'Flowey', 'Cata', 'Karen']\n",
        "  DD = {cs:random.randint(1,50) for cs in cs}\n",
        "  DD1 = {CS:random.randint(1,50) for CS in CS}\n",
        "  return DD, DD1\n",
        "\n",
        "A()"
      ],
      "metadata": {
        "colab": {
          "base_uri": "https://localhost:8080/"
        },
        "id": "fL8zzr7CtIBX",
        "outputId": "e3f90cf9-a2ed-4492-8c66-010520ed0d5f"
      },
      "execution_count": 22,
      "outputs": [
        {
          "output_type": "execute_result",
          "data": {
            "text/plain": [
              "({'Andru': 14, 'David': 22, 'Sebas': 27},\n",
              " {'Andres': 1, 'Flowey': 42, 'Cata': 28, 'Karen': 13})"
            ]
          },
          "metadata": {},
          "execution_count": 22
        }
      ]
    },
    {
      "cell_type": "code",
      "source": [
        "#lambda\n",
        "cs = ['Andru', 'David', 'Sebas']\n",
        "CS = ['Andres', 'Flowey', 'Cata', 'Karen']\n",
        "DD = (dict(map(lambda DD:(DD,random.randint(1,50)),cs)))\n",
        "DD1 = (dict(map(lambda DD1:(DD1,random.randint(1,50)),CC)))\n",
        "\n",
        "print(DD, DD1)"
      ],
      "metadata": {
        "id": "KK57WpfJtKs4"
      },
      "execution_count": null,
      "outputs": []
    },
    {
      "cell_type": "code",
      "source": [
        "#Juan zuluaga\n",
        "\n",
        "import random\n",
        "listado_numerico=[]\n",
        "while True:\n",
        "   nombres=str(input(\"¿Ingrese el nombre del cliente?: \"))\n",
        "   listado_numerico.append(nombres) \n",
        "   confirmador=str(input(\"¿Hubo mas clientes el día de hoy?: \"))\n",
        "   confirmador.lower()\n",
        "   if confirmador == \"no\":\n",
        "     break\n",
        "print(listado_numerico)\n",
        "catalogocomp={listado_numerico: random.randint(100,5000) for listado_numerico in listado_numerico}\n",
        "\n",
        "costes=sorted(catalogocomp)\n",
        "\n",
        "mayor=max(catalogocomp,key=catalogocomp.get)\n",
        "\n",
        "gastos= sum(catalogocomp.values())*0.8 if sum(catalogocomp.values())>10000 else sum(catalogocomp.values())\n",
        "print(mayor)\n",
        "\n",
        "descuentos_prod=[0.6,0.8,0.5]\n",
        "catalogo_descuentos={listado_numerico:random.choice(descuentos_prod)*random.randint(100,5000) for listado_numerico in listado_numerico if random.randint(100,5000)>4000  }\n",
        "\n",
        "\n",
        "catalogo_descuentos"
      ],
      "metadata": {
        "id": "pRyvMbsrtQAW"
      },
      "execution_count": null,
      "outputs": []
    },
    {
      "cell_type": "code",
      "source": [
        "#Juan arenales\n",
        "#lambda\n",
        "import pandas as pd\n",
        "import random\n",
        "def menu(C,E,N,n):\n",
        "  b=int(input(\"Menú:\\n1)Añadir contacto\\n2)Eliminar contacto\\n3)Lista de contacto\\n4)Darle emojis aleatorios\\n\"))\n",
        "  if b==1: #Añade contactos\n",
        "    d=input(\"Nombre: \") #Ingresa el nombre\n",
        "    f=d in N #Si el nombre ya esta en los contactos f es True, sino es false\n",
        "    while f==True:\n",
        "      d=input(\"Ya existe un contacto con ese nombre, escoja otro: \")\n",
        "      f=d in C[\"Nombre\"]\n",
        "    e=input(\"Número: \") #Ingresa el numero\n",
        "    N.append(d) #Añade el nombre a la lista N\n",
        "    n.append(e) #Añade el numero a la lista n\n",
        "  if b==2:# Elimina contactos\n",
        "    o=int(input(\"1)Eliminar por nombre\\n2)Eliminar por número\\n\")) #Da dos opciones para eliminar un contacto\n",
        "    if o==1: #Eliminar por nombre\n",
        "      d=input(\"Nombre: \") #Ingresa el nombre\n",
        "      f=d in N #Si el nombre ya esta en los contactos f es True, sino es false\n",
        "      if f==False:#Si ese contacto no existe en la lista\n",
        "        print(\"No existe un contacto con ese nombre\")\n",
        "      else:\n",
        "        i=N.index(d) #Busca la posición del Nombre\n",
        "        N.pop(i) #Elimina el nombre en esa posicion\n",
        "        n.pop(i) #Elimina el número en esa posicion\n",
        "    if o==2: #Eliminar por número\n",
        "      e=input(\"Número: \") #Ingresa el número\n",
        "      h= e in N #Si el numero ya esta en los contactos h es True, sino es false\n",
        "      if h==False: #Si ese contacto no existe en la lista\n",
        "        print(\"No existe un contacto con ese número\")\n",
        "      else:\n",
        "        i=n.index(e) #Busca la posición del Nombre\n",
        "        N.pop(i) #Elimina el nombre en esa posicion\n",
        "        n.pop(i) #Elimina el número en esa posicion\n",
        "  if b==3:#Imprime la lista de contactos\n",
        "    C={N[z]: n[z] for z in range(len(N)) }\n",
        "    print(C)\n",
        "  if b==4:#Le da emojis aleatorios a los contactos \n",
        "    C={N[z]: (n[z],E[random.randint(0,3)]) for z in range(len(N)) }\n",
        "    print(pd.DataFrame.from_dict(C)) #La imprime bonito con pandas\n",
        "\n",
        "  return C\n",
        "    \n",
        "C={}\n",
        "E=[\"B)\",\":)\",\"<3\",\">:v\"]#Emojis\n",
        "N=[\"juan\",\"Kyle\"]#Nombres default\n",
        "n=[\"453\",\"64782\"]#Números default\n",
        "\n",
        "a=True\n",
        "while a==True:\n",
        "  menu(C,E,N,n)\n"
      ],
      "metadata": {
        "id": "r9AUkf7UuISX"
      },
      "execution_count": null,
      "outputs": []
    },
    {
      "cell_type": "code",
      "source": [
        "import pandas as pd\n",
        "import random\n",
        "def menu(C,E,N,n):\n",
        "  b=int(input(\"Menú:\\n1)Añadir contacto\\n2)Eliminar contacto\\n3)Lista de contacto\\n4)Darle emojis aleatorios\\n\"))\n",
        "  if b==1:\n",
        "    d=input(\"Nombre: \")\n",
        "    f=d in N\n",
        "    while f==True:\n",
        "      d=input(\"Ya existe un contacto con ese nombre, escoja otro: \")\n",
        "      f=d in C[\"Nombre\"]\n",
        "    e=input(\"Número: \")\n",
        "    N.append(d)\n",
        "    n.append(e)\n",
        "  if b==2:\n",
        "    o=int(input(\"1)Eliminar por nombre\\n2)Eliminar por número\\n\"))\n",
        "    if o==1:\n",
        "      d=input(\"Nombre: \")\n",
        "      f=d in N\n",
        "      if f==False:\n",
        "        print(\"No existe un contacto con ese nombre\")\n",
        "      else:\n",
        "        i=N.index(d)\n",
        "        N.pop(i)\n",
        "        n.pop(i)\n",
        "    if o==2:\n",
        "      e=input(\"Número: \")\n",
        "      h= e in N\n",
        "      if h==False:\n",
        "        print(\"No existe un contacto con ese número\")\n",
        "      else:\n",
        "        i=n.index(e)\n",
        "        N.pop(i)\n",
        "        n.pop(i)\n",
        "  if b==3:\n",
        "    C=dict(map(lambda Nombre:(Nombre,n[N.index(Nombre)]),N)) #Lambda  \n",
        "    print(C)\n",
        "  if b==4:\n",
        "    C=dict(map(lambda Nombre:(Nombre,(n[N.index(Nombre)],E[random.randint(0,3)])),N)) #Lambda\n",
        "    print(pd.DataFrame.from_dict(C))\n",
        "    \n",
        "  return C\n",
        "    \n",
        "C={}\n",
        "E=[\"B)\",\":)\",\"<3\",\">:v\"]\n",
        "N=[\"juan\",\"Kyle\"]\n",
        "n=[\"453\",\"64782\"]\n",
        "\n",
        "a=True\n",
        "while a==True:\n",
        "  menu(C,E,N,n)"
      ],
      "metadata": {
        "id": "iz5rEQDKuy8S"
      },
      "execution_count": null,
      "outputs": []
    },
    {
      "cell_type": "code",
      "source": [
        "import pandas as pd\n",
        "import random\n",
        "def menu(C,E,N,n):\n",
        "  b=int(input(\"Menú:\\n1)Añadir contacto\\n2)Eliminar contacto\\n3)Lista de contacto\\n4)Darle emojis aleatorios\\n\"))\n",
        "  if b==1:\n",
        "    d=input(\"Nombre: \")\n",
        "    f=d in N\n",
        "    while f==True:\n",
        "      d=input(\"Ya existe un contacto con ese nombre, escoja otro: \")\n",
        "      f=d in C[\"Nombre\"]\n",
        "    e=input(\"Número: \")\n",
        "    N.append(d)\n",
        "    n.append(e)\n",
        "  if b==2:\n",
        "    o=int(input(\"1)Eliminar por nombre\\n2)Eliminar por número\\n\"))\n",
        "    if o==1:\n",
        "      d=input(\"Nombre: \")\n",
        "      f=d in N\n",
        "      if f==False:\n",
        "        print(\"No existe un contacto con ese nombre\")\n",
        "      else:\n",
        "        i=N.index(d)\n",
        "        N.pop(i)\n",
        "        n.pop(i)\n",
        "    if o==2:\n",
        "      e=input(\"Número: \")\n",
        "      h= e in N\n",
        "      if h==False:\n",
        "        print(\"No existe un contacto con ese número\")\n",
        "      else:\n",
        "        i=n.index(e)\n",
        "        N.pop(i)\n",
        "        n.pop(i)\n",
        "  if b==3:\n",
        "    l=len(N)\n",
        "    for a in range(l): #Tradicional\n",
        "      C[N[a]]=n[a] \n",
        "    print(C)\n",
        "  if b==4:\n",
        "    l=len(N)\n",
        "    for a in range(l):#Tradicional\n",
        "      C[N[a]]=(n[a],E[random.randint(0,3)])\n",
        "    print(pd.DataFrame.from_dict(C))\n",
        "\n",
        "  return C\n",
        "C={}\n",
        "E=[\"B)\",\":)\",\"<3\",\">:v\"]\n",
        "N=[\"juan\",\"Kyle\"]\n",
        "n=[\"453\",\"64782\"]\n",
        "\n",
        "a=True\n",
        "while a==True:\n",
        "  menu(C,E,N,n)"
      ],
      "metadata": {
        "id": "ajuuXkUZu6fC"
      },
      "execution_count": null,
      "outputs": []
    }
  ]
}