{
  "nbformat": 4,
  "nbformat_minor": 0,
  "metadata": {
    "colab": {
      "provenance": [],
      "authorship_tag": "ABX9TyOG8yI0WH6ulBEZT0WM65c5",
      "include_colab_link": true
    },
    "kernelspec": {
      "name": "python3",
      "display_name": "Python 3"
    },
    "language_info": {
      "name": "python"
    }
  },
  "cells": [
    {
      "cell_type": "markdown",
      "metadata": {
        "id": "view-in-github",
        "colab_type": "text"
      },
      "source": [
        "<a href=\"https://colab.research.google.com/github/DavidJ244/PROGCOM-B2/blob/main/EjercicioMetodos.ipynb\" target=\"_parent\"><img src=\"https://colab.research.google.com/assets/colab-badge.svg\" alt=\"Open In Colab\"/></a>"
      ]
    },
    {
      "cell_type": "code",
      "execution_count": 2,
      "metadata": {
        "colab": {
          "base_uri": "https://localhost:8080/"
        },
        "id": "jKne6Gu-cM5G",
        "outputId": "5db0bda5-db7e-4576-ba2e-b42b11870963"
      },
      "outputs": [
        {
          "output_type": "stream",
          "name": "stdout",
          "text": [
            "Nombre del empleado:juan\n",
            "Sueldo:900\n",
            "Nombre: juan\n",
            "Sueldo: 900.0\n",
            "No paga impuestos :)\n"
          ]
        }
      ],
      "source": [
        "class Empleado:\n",
        "\n",
        "    def __init__(self):\n",
        "        self.nombre=input(\"Nombre del empleado:\")\n",
        "        self.sueldo=float(input(\"Sueldo:\"))\n",
        "\n",
        "    def imprimir(self):\n",
        "        print(\"Nombre:\",self.nombre)\n",
        "        print(\"Sueldo:\",self.sueldo)\n",
        "\n",
        "    def impuestos(self):\n",
        "        if self.sueldo>3000:\n",
        "            print(\"Tiene que pagar impuestos, su sueldo supera el limite\")\n",
        "        else:\n",
        "            print(\"No paga impuestos :)\")\n",
        "\n",
        "\n",
        "empleado1=Empleado()\n",
        "empleado1.imprimir()\n",
        "empleado1.impuestos()"
      ]
    },
    {
      "cell_type": "code",
      "source": [
        "class Ninjas:\n",
        "  def __init__(self, hp, resistencia, xp, vidas):\n",
        "    self.hp = hp\n",
        "    self.resistencia = resistencia\n",
        "    self.xp = xp\n",
        "    self.vidas = vidas\n",
        "  \n",
        "  def __str__(self):\n",
        "    cad = f'El ninja tiene: \\n Vida: {self.hp} \\n Resistencia: {self.resistencia} \\n xp: {self.xp} \\n Vidas: {self.vidas}'\n",
        "    return cad\n",
        "\n",
        "ninjasExp = Ninjas(100, 50, 100, 3)\n",
        "print(ninjasExp)"
      ],
      "metadata": {
        "colab": {
          "base_uri": "https://localhost:8080/"
        },
        "id": "gD9BsLGtcqEV",
        "outputId": "80766832-4489-46ba-e2e0-b1775a220aed"
      },
      "execution_count": 5,
      "outputs": [
        {
          "output_type": "stream",
          "name": "stdout",
          "text": [
            "El ninja tiene: \n",
            " Vida: 100 \n",
            " Resistencia: 50 \n",
            " xp: 100 \n",
            " Vidas: 3\n"
          ]
        }
      ]
    },
    {
      "cell_type": "code",
      "source": [
        "class cuenta():\n",
        "\n",
        "    def __init__(self,titular,cantidad=0):\n",
        "        self.titular=titular\n",
        "        self.__cantidad=cantidad\n",
        "    \n",
        "    @property\n",
        "    def titular(self):\n",
        "        return self.__titular\n",
        "    \n",
        "    @property\n",
        "    def cantidad(self):\n",
        "        return self.__cantidad\n",
        "\n",
        "    @titular.setter\n",
        "    def titular(self,titular):\n",
        "        self.__titular=titular\n",
        "\n",
        "       \n",
        "    def __str__(self):\n",
        "        return \"Cuenta\\n\"+\"Titular:\"+self.titular +\" - Cantidad:\"+str(self.cantidad)\n",
        "    \n",
        "    def ingresar(self,C):\n",
        "        if self.cantidad >= 0:\n",
        "            self.__cantidad = self.__cantidad + C\n",
        "    \n",
        "    def retirar(self,cantidad):\n",
        "        if self.cantidad >= 0:\n",
        "            self.__cantidad = self.__cantidad - C"
      ],
      "metadata": {
        "id": "zYLjWZN1dWz_"
      },
      "execution_count": 25,
      "outputs": []
    },
    {
      "cell_type": "code",
      "source": [
        "a=cuenta('jd',700)"
      ],
      "metadata": {
        "id": "1I2I109LeAwj"
      },
      "execution_count": 26,
      "outputs": []
    },
    {
      "cell_type": "code",
      "source": [
        "print(a)"
      ],
      "metadata": {
        "colab": {
          "base_uri": "https://localhost:8080/"
        },
        "id": "wNxaBSCIeS-_",
        "outputId": "092d7322-cbcb-4af3-a842-d216d87b37e0"
      },
      "execution_count": 29,
      "outputs": [
        {
          "output_type": "stream",
          "name": "stdout",
          "text": [
            "Cuenta\n",
            "Titular:jd - Cantidad:900\n"
          ]
        }
      ]
    },
    {
      "cell_type": "code",
      "source": [
        "a.ingresar(200)"
      ],
      "metadata": {
        "id": "AczNCTAsfJKD"
      },
      "execution_count": 28,
      "outputs": []
    }
  ]
}