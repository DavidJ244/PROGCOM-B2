{
  "nbformat": 4,
  "nbformat_minor": 0,
  "metadata": {
    "colab": {
      "provenance": [],
      "authorship_tag": "ABX9TyPl2pCoj2HHrggEaV/qa40t",
      "include_colab_link": true
    },
    "kernelspec": {
      "name": "python3",
      "display_name": "Python 3"
    },
    "language_info": {
      "name": "python"
    }
  },
  "cells": [
    {
      "cell_type": "markdown",
      "metadata": {
        "id": "view-in-github",
        "colab_type": "text"
      },
      "source": [
        "<a href=\"https://colab.research.google.com/github/DavidJ244/PROGCOM-B2/blob/main/PooClasesObjetos.ipynb\" target=\"_parent\"><img src=\"https://colab.research.google.com/assets/colab-badge.svg\" alt=\"Open In Colab\"/></a>"
      ]
    },
    {
      "cell_type": "code",
      "execution_count": 1,
      "metadata": {
        "id": "EJjmvEmA45MZ"
      },
      "outputs": [],
      "source": [
        "class Empleado: #CLASE\n",
        "#__init__ funcion constructor\n",
        "  def __init__(self, nombre, edad, ID, salario) -> None:\n",
        "    self.nombre=nombre\n",
        "    self.edad=edad\n",
        "    self.ID=ID\n",
        "    self.salario=salario\n",
        "\n",
        "  def __repr__(self) -> str:\n",
        "    return f\"nombre:{self.nombre}, edad:{self.edad},ID: {self.ID}, salario: {self.salario}\""
      ]
    },
    {
      "cell_type": "code",
      "source": [
        "sonia=Empleado(\"maria\",27,\"NOSE\",1200000)"
      ],
      "metadata": {
        "id": "ve5kbzYR5Anv"
      },
      "execution_count": 2,
      "outputs": []
    },
    {
      "cell_type": "code",
      "source": [
        "print(sonia)"
      ],
      "metadata": {
        "colab": {
          "base_uri": "https://localhost:8080/"
        },
        "id": "c6bk-AZ75B3z",
        "outputId": "88f89d9e-4cd1-4eb5-8a86-80d66313e9f1"
      },
      "execution_count": 4,
      "outputs": [
        {
          "output_type": "stream",
          "name": "stdout",
          "text": [
            "nombre:maria, edad:27,ID: NOSE, salario: 1200000\n"
          ]
        }
      ]
    },
    {
      "cell_type": "code",
      "source": [
        "type(sonia)"
      ],
      "metadata": {
        "colab": {
          "base_uri": "https://localhost:8080/"
        },
        "id": "wbYj9mM55Lj5",
        "outputId": "fb87ce2a-1652-4861-8e34-30995513ab98"
      },
      "execution_count": 5,
      "outputs": [
        {
          "output_type": "execute_result",
          "data": {
            "text/plain": [
              "__main__.Empleado"
            ]
          },
          "metadata": {},
          "execution_count": 5
        }
      ]
    },
    {
      "cell_type": "code",
      "source": [
        "sonia.salario=1300000\n"
      ],
      "metadata": {
        "id": "zUnXvP_15SFL"
      },
      "execution_count": 6,
      "outputs": []
    },
    {
      "cell_type": "code",
      "source": [
        "sonia.ID=\"u001585\""
      ],
      "metadata": {
        "id": "_FNoiz9y5T8X"
      },
      "execution_count": 7,
      "outputs": []
    },
    {
      "cell_type": "code",
      "source": [
        "\n",
        "sonia.salario"
      ],
      "metadata": {
        "colab": {
          "base_uri": "https://localhost:8080/"
        },
        "id": "kewg3fSk5WiZ",
        "outputId": "fe69aa7b-981b-442c-8d72-eb4c25e68599"
      },
      "execution_count": 8,
      "outputs": [
        {
          "output_type": "execute_result",
          "data": {
            "text/plain": [
              "1300000"
            ]
          },
          "metadata": {},
          "execution_count": 8
        }
      ]
    },
    {
      "cell_type": "code",
      "source": [
        "sonia.ID"
      ],
      "metadata": {
        "colab": {
          "base_uri": "https://localhost:8080/",
          "height": 35
        },
        "id": "oUpYbYEU5Ydg",
        "outputId": "b171550c-59c4-49d6-c07a-e568a7d05fb3"
      },
      "execution_count": 9,
      "outputs": [
        {
          "output_type": "execute_result",
          "data": {
            "text/plain": [
              "'u001585'"
            ],
            "application/vnd.google.colaboratory.intrinsic+json": {
              "type": "string"
            }
          },
          "metadata": {},
          "execution_count": 9
        }
      ]
    },
    {
      "cell_type": "code",
      "source": [
        "sonia.__dict__#para ver los atributos de constructor"
      ],
      "metadata": {
        "colab": {
          "base_uri": "https://localhost:8080/"
        },
        "id": "VFGW0YtV5bfa",
        "outputId": "727b57a2-b2c8-42bb-f6ba-de019e843a9d"
      },
      "execution_count": 10,
      "outputs": [
        {
          "output_type": "execute_result",
          "data": {
            "text/plain": [
              "{'nombre': 'maria', 'edad': 27, 'ID': 'u001585', 'salario': 1300000}"
            ]
          },
          "metadata": {},
          "execution_count": 10
        }
      ]
    },
    {
      "cell_type": "code",
      "source": [
        "if sonia.salario<1000000:\n",
        "  sonia,salario=1.2*sonia.salario\n",
        "  print(\"joven aqui tiene su ayuda\")\n",
        "else:\n",
        "  print(\"Los asalariados tienen el control de los medios de produccion\")"
      ],
      "metadata": {
        "colab": {
          "base_uri": "https://localhost:8080/"
        },
        "id": "D4nqcKjh5dXt",
        "outputId": "8c80c0d5-c658-47d3-de5e-d371310b7ba4"
      },
      "execution_count": 11,
      "outputs": [
        {
          "output_type": "stream",
          "name": "stdout",
          "text": [
            "Los asalariados tienen el control de los medios de produccion\n"
          ]
        }
      ]
    },
    {
      "cell_type": "code",
      "source": [
        "class Tienda:\n",
        "  def __init__(self,producto,precio,unidad):\n",
        "    self.producto=producto\n",
        "    self.precio=precio\n",
        "    self.unidad=unidad\n",
        "\n",
        "  def calculo(self):\n",
        "    total=self.unidad*self.precio\n",
        "    return total"
      ],
      "metadata": {
        "id": "3FEIms_L5fs0"
      },
      "execution_count": 12,
      "outputs": []
    },
    {
      "cell_type": "code",
      "source": [
        "producto1=Tienda(\"Banano\",500,3)"
      ],
      "metadata": {
        "id": "rS93r-wz5hqX"
      },
      "execution_count": 13,
      "outputs": []
    },
    {
      "cell_type": "code",
      "source": [
        "producto1.calculo()"
      ],
      "metadata": {
        "colab": {
          "base_uri": "https://localhost:8080/"
        },
        "id": "w69DkTtY5jic",
        "outputId": "4493e1dd-6cf6-401d-9498-bb9a82468941"
      },
      "execution_count": 14,
      "outputs": [
        {
          "output_type": "execute_result",
          "data": {
            "text/plain": [
              "1500"
            ]
          },
          "metadata": {},
          "execution_count": 14
        }
      ]
    },
    {
      "cell_type": "code",
      "source": [
        "empleado2=Empleado(\"juan\",17,\"u00156874\",10000000)"
      ],
      "metadata": {
        "id": "VgCx17-e5l6O"
      },
      "execution_count": 15,
      "outputs": []
    },
    {
      "cell_type": "code",
      "source": [
        "if empleado2.salario>sonia.salario:\n",
        "  print(f\"{empleado2.nombre} gana mas que {sonia.nombre}\")\n",
        "elif empleado2.salario<sonia.salario:\n",
        "  print(f\"{empleado2.nombre} gana lo mismo {sonia.salario}\")\n",
        "else:\n",
        "  print(f\"{empleado2.nombre} gana menos que {sonia.salario}\")"
      ],
      "metadata": {
        "colab": {
          "base_uri": "https://localhost:8080/"
        },
        "id": "lfSdUorK5oXN",
        "outputId": "999add31-2bc0-4c58-d738-666e6fa3f872"
      },
      "execution_count": 16,
      "outputs": [
        {
          "output_type": "stream",
          "name": "stdout",
          "text": [
            "juan gana mas que maria\n"
          ]
        }
      ]
    },
    {
      "cell_type": "code",
      "source": [
        "from IPython.core.completer import back_unicode_name_matches\n",
        "class Fraccion:\n",
        "  #atributo de clase\n",
        "  num=0\n",
        "  den=1\n",
        "  exponente= 1\n",
        "  def __init__(self,num=0,den=1,z=0,exponente=1):\n",
        "    self.num=num\n",
        "    self.den=den\n",
        "\n",
        "  def maximo_comun_divisor(self, a, b):\n",
        "    z = 0\n",
        "    while b != 0:\n",
        "        z = b\n",
        "        b = a % b\n",
        "        a = z\n",
        "    return a\n",
        "\n",
        "  def minimo_comun_multiplo(self, a, b):\n",
        "    return (a * b) / self.maximo_comun_divisor(a, b)\n",
        "\n",
        "  #operaciones\n",
        "\n",
        "  def multiplica(self,b):\n",
        "    num=self.num*b.num\n",
        "    den=self.den*b.den\n",
        "    r=Fraccion(num,den)\n",
        "    return r\n",
        "\n",
        "  def suma(self, b):\n",
        "    mcm = self.minimo_comun_multiplo(self.num, self.den)\n",
        "    diferencia_self = mcm/self.num\n",
        "    diferencia_otra = mcm/self.den\n",
        "    numerador_resultado = (diferencia_self*self.num) + \\\n",
        "    (diferencia_otra*self.den)\n",
        "    return Fraccion(numerador_resultado, mcm)\n",
        "\n",
        "  def resta(self, b):\n",
        "    mcm = self.minimo_comun_multiplo(self.num, self.den)\n",
        "    diferencia_self = mcm/self.num\n",
        "    diferencia_otra = mcm/delf.den\n",
        "    numerador_resultado = (diferencia_self*self.num) - \\\n",
        "        (diferencia_otra*den)\n",
        "    return Fraccion(numerador_resultado, mcm)\n",
        "    \n",
        "  def potencia(self, b , exponente):\n",
        "    exponente= input(print(\"coloca el exponente\"))\n",
        "    return Fraccion(self.num ** exponente, self.den ** exponente)\n",
        "\n",
        "\n",
        "  def imprimir(self):\n",
        "    print(self.num,\"/\",self.den)"
      ],
      "metadata": {
        "id": "uejmJjAl5vTn"
      },
      "execution_count": 25,
      "outputs": []
    },
    {
      "cell_type": "code",
      "source": [
        "a=Fraccion(4,5)\n",
        "a.imprimir()"
      ],
      "metadata": {
        "colab": {
          "base_uri": "https://localhost:8080/"
        },
        "id": "tT8uD1XR6VUm",
        "outputId": "a8059156-b3d7-4b90-a905-7b7ae9396539"
      },
      "execution_count": 26,
      "outputs": [
        {
          "output_type": "stream",
          "name": "stdout",
          "text": [
            "4 / 5\n"
          ]
        }
      ]
    },
    {
      "cell_type": "code",
      "source": [
        "c=Fraccion(7,4)\n",
        "c.imprimir()"
      ],
      "metadata": {
        "colab": {
          "base_uri": "https://localhost:8080/"
        },
        "id": "_r3Subss8AZr",
        "outputId": "b1ffe648-cf24-4fdc-dc57-871490aabcc9"
      },
      "execution_count": 27,
      "outputs": [
        {
          "output_type": "stream",
          "name": "stdout",
          "text": [
            "7 / 4\n"
          ]
        }
      ]
    },
    {
      "cell_type": "code",
      "source": [
        "r=a.multiplica(c)\n",
        "r.imprimir()"
      ],
      "metadata": {
        "colab": {
          "base_uri": "https://localhost:8080/"
        },
        "id": "IdO0NxeI8Dgo",
        "outputId": "036828e6-2fdc-4bf5-b4be-904d66f17ed0"
      },
      "execution_count": 28,
      "outputs": [
        {
          "output_type": "stream",
          "name": "stdout",
          "text": [
            "28 / 20\n"
          ]
        }
      ]
    },
    {
      "cell_type": "code",
      "source": [
        "r=a.potencia(c)\n",
        "r.imprimir()"
      ],
      "metadata": {
        "id": "1oz9lLOR8GYq"
      },
      "execution_count": null,
      "outputs": []
    },
    {
      "cell_type": "code",
      "source": [
        "#calculadora de fracciones\n",
        "\n",
        "class Fraccion:\n",
        "  def __init__(self,num,den,pot):\n",
        "    self.num=num\n",
        "    self.den=den\n",
        "    self.pot=pot\n",
        "\n",
        "  def potencia(self):\n",
        "    if self.pot==0:\n",
        "      num=1\n",
        "      den=1\n",
        "    elif self.pot<0:\n",
        "      self.num,self.den=self.den,self.num\n",
        "      self.pot=self.pot*-1\n",
        "      num=self.num**self.pot\n",
        "      den=self.den**self.pot\n",
        "    else:\n",
        "      num=self.num**self.pot\n",
        "      den=self.den**self.pot\n",
        "      pot=self.pot\n",
        "      c=fraccion(num,den,pot)\n",
        "      print(f\"{c.num}/{c.den}\")\n",
        "    return c\n",
        "\n",
        "  def suma(self,s):\n",
        "    if self.den==0 or s.den==0:\n",
        "      print(\"No se puede hacer divicion entre 0\")\n",
        "    else:\n",
        "      if self.den!=s.den:\n",
        "        num=(self.num*s.den)+(self.den*s.num)\n",
        "        den=self.den*s.den\n",
        "      else:\n",
        "        num=(self.num*s.den)+(self.den*s.num)\n",
        "        den=self.den*s.den\n",
        "      f=Fraccion(num,dev,1)\n",
        "      print(f\"{f.num}/{f.den}\")\n",
        "      return f\n",
        "\n",
        "  def resta(self,s):\n",
        "    if self.den==0 or s.den==0:\n",
        "      print(\"No se puede hacer divicion entre 0\")\n",
        "    else:\n",
        "      if self.den!=s.den:\n",
        "        num=(self.num*s.den)+(self.den*s.num)\n",
        "        den=self.den*s.den\n",
        "      else:\n",
        "        num=(self.num*s.den)+(self.den*s.num)\n",
        "        den=self.den*s.den\n",
        "      f=Fraccion(num,dev,1)\n",
        "      print(f\"{f.num}/{f.den}\")\n",
        "      return f\n",
        "\n",
        "  def producto(self,s):\n",
        "      num=self.num*s.num\n",
        "      den=self.den*s.den\n",
        "      fr=Fraccion(num,den,1)\n",
        "      return f\"{fr.num}/{fr.den}\"\n",
        "\n",
        "  def div(self,c):\n",
        "    num=self.num*c.den\n",
        "    den=senf.den*c.num\n",
        "\n",
        "   \n",
        "\n",
        "  def imprimir(self):\n",
        "    print(f\"{self.num} / {self.den}\")"
      ],
      "metadata": {
        "id": "A1nUfPai8TWS"
      },
      "execution_count": 37,
      "outputs": []
    },
    {
      "cell_type": "code",
      "source": [
        "s=Fraccion(3,5,8)\n",
        "s.potencia()"
      ],
      "metadata": {
        "id": "Pw5PYDtR9Gid"
      },
      "execution_count": null,
      "outputs": []
    },
    {
      "cell_type": "code",
      "source": [
        "t=Fraccion(3,5,1)\n",
        "z=Fraccion(6,8,1)\n",
        "t.producto(z)"
      ],
      "metadata": {
        "colab": {
          "base_uri": "https://localhost:8080/",
          "height": 35
        },
        "id": "4AithGQx9X4c",
        "outputId": "19ac9f9a-9e2e-4aa5-9a29-4f10b1e7ae58"
      },
      "execution_count": 35,
      "outputs": [
        {
          "output_type": "execute_result",
          "data": {
            "text/plain": [
              "'18/40'"
            ],
            "application/vnd.google.colaboratory.intrinsic+json": {
              "type": "string"
            }
          },
          "metadata": {},
          "execution_count": 35
        }
      ]
    }
  ]
}