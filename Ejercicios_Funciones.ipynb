{
  "nbformat": 4,
  "nbformat_minor": 0,
  "metadata": {
    "colab": {
      "provenance": [],
      "authorship_tag": "ABX9TyO+KYMW0HF7PPVd6i4GDvSj",
      "include_colab_link": true
    },
    "kernelspec": {
      "name": "python3",
      "display_name": "Python 3"
    },
    "language_info": {
      "name": "python"
    }
  },
  "cells": [
    {
      "cell_type": "markdown",
      "metadata": {
        "id": "view-in-github",
        "colab_type": "text"
      },
      "source": [
        "<a href=\"https://colab.research.google.com/github/DavidJ244/PROGCOM-B2/blob/main/Ejercicios_Funciones.ipynb\" target=\"_parent\"><img src=\"https://colab.research.google.com/assets/colab-badge.svg\" alt=\"Open In Colab\"/></a>"
      ]
    },
    {
      "cell_type": "markdown",
      "source": [
        "Ejercicio 2"
      ],
      "metadata": {
        "id": "m1hTTlXpg52t"
      }
    },
    {
      "cell_type": "code",
      "source": [
        "  a = int(input('Ingrese un numero '))\n",
        "  b = int(input('Ingrese un numero '))\n",
        "  c = int(input('Ingrese un numero '))\n",
        "\n",
        "  if a>b and a>c:\n",
        "    print(f'{a} es el mayor')\n",
        "  elif b>c and b>a:\n",
        "    print(f'{b} es el mayor')\n",
        "  else:\n",
        "    print(f'{c} es el mayor')\n"
      ],
      "metadata": {
        "colab": {
          "base_uri": "https://localhost:8080/"
        },
        "id": "QEmESdY2gStM",
        "outputId": "b1634579-53b1-4e22-ce91-8d63d891c27f"
      },
      "execution_count": 17,
      "outputs": [
        {
          "output_type": "stream",
          "name": "stdout",
          "text": [
            "Ingrese un numero 1\n",
            "Ingrese un numero 2\n",
            "Ingrese un numero 3\n",
            "3 es el mayor\n"
          ]
        }
      ]
    },
    {
      "cell_type": "code",
      "execution_count": 10,
      "metadata": {
        "id": "MS3FVEeocJsE"
      },
      "outputs": [],
      "source": [
        "def mayor (a,b,c):\n",
        "  if a>b and a>c:\n",
        "    print(f'{a} es el mayor')\n",
        "  elif b>c and b>a:\n",
        "    print(f'{b} es el mayor')\n",
        "  else:\n",
        "    print(f'{c} es el mayor')\n"
      ]
    },
    {
      "cell_type": "markdown",
      "source": [
        "Ejercicio 1"
      ],
      "metadata": {
        "id": "VIyyoXW9g9kK"
      }
    },
    {
      "cell_type": "code",
      "source": [
        "def mayor2 (a,b):\n",
        "  if a>b:\n",
        "    print(a,\" es el mayor\")\n",
        "  else:\n",
        "    print(b,\" es el mayor\")"
      ],
      "metadata": {
        "id": "yevMiDAThHhy"
      },
      "execution_count": 18,
      "outputs": []
    },
    {
      "cell_type": "code",
      "source": [
        "mayor2(a,b)"
      ],
      "metadata": {
        "colab": {
          "base_uri": "https://localhost:8080/"
        },
        "id": "cu-hbN35h-zb",
        "outputId": "b32577f0-df44-41cd-e973-d04a85c0a579"
      },
      "execution_count": 19,
      "outputs": [
        {
          "output_type": "stream",
          "name": "stdout",
          "text": [
            "2  es el mayor\n"
          ]
        }
      ]
    },
    {
      "cell_type": "markdown",
      "source": [
        "Ejercicio 3"
      ],
      "metadata": {
        "id": "MwCqYueOiUxp"
      }
    },
    {
      "cell_type": "code",
      "source": [
        "def suma(a,b,c):\n",
        "  lista=[a,b,c]\n",
        "  sumaa=lista[0]+lista[1]+lista[2]\n",
        "  return sumaa"
      ],
      "metadata": {
        "id": "xrS9s6KUiWP1"
      },
      "execution_count": 23,
      "outputs": []
    },
    {
      "cell_type": "code",
      "source": [
        "suma(1,2,3)"
      ],
      "metadata": {
        "colab": {
          "base_uri": "https://localhost:8080/"
        },
        "id": "3w55T_7vikCf",
        "outputId": "ce003a85-653c-4aec-a2b7-0bb5613e53bb"
      },
      "execution_count": 24,
      "outputs": [
        {
          "output_type": "execute_result",
          "data": {
            "text/plain": [
              "6"
            ]
          },
          "metadata": {},
          "execution_count": 24
        }
      ]
    },
    {
      "cell_type": "markdown",
      "source": [
        "Ejercicio 4"
      ],
      "metadata": {
        "id": "LetykkJPjxr-"
      }
    },
    {
      "cell_type": "code",
      "source": [
        "def suma(a,b,c,d):\n",
        "  lista=[a,b,c,d]\n",
        "  sumaa=lista[0]+lista[1]+lista[2]+lista[3]\n",
        "  return sumaa"
      ],
      "metadata": {
        "id": "cBCfHB1pjwxO"
      },
      "execution_count": 26,
      "outputs": []
    },
    {
      "cell_type": "code",
      "source": [
        "suma(1,2,3,4)"
      ],
      "metadata": {
        "colab": {
          "base_uri": "https://localhost:8080/"
        },
        "id": "Y9ge-AEGj9zn",
        "outputId": "485ba975-2f64-45a3-9181-a0447b73c55d"
      },
      "execution_count": 27,
      "outputs": [
        {
          "output_type": "execute_result",
          "data": {
            "text/plain": [
              "10"
            ]
          },
          "metadata": {},
          "execution_count": 27
        }
      ]
    },
    {
      "cell_type": "markdown",
      "source": [
        "Ejercicio 5"
      ],
      "metadata": {
        "id": "yo1PXd9UlAI7"
      }
    },
    {
      "cell_type": "code",
      "source": [
        "lista=[2,4,4,4,3,5,3]\n",
        "def sumal (a):\n",
        "  sumal1=0\n",
        "  y=len(a)\n",
        "  for i in range (y):\n",
        "    sumal1= sumal1+a[i]\n",
        "  print(sumal1)"
      ],
      "metadata": {
        "id": "ptFN8UdqvHo0"
      },
      "execution_count": 61,
      "outputs": []
    },
    {
      "cell_type": "code",
      "source": [
        "sumal(lista)"
      ],
      "metadata": {
        "colab": {
          "base_uri": "https://localhost:8080/"
        },
        "id": "-ytHQbBTwL09",
        "outputId": "f1583fed-a2ae-4e3f-9dfa-0b46aec7aa34"
      },
      "execution_count": 63,
      "outputs": [
        {
          "output_type": "stream",
          "name": "stdout",
          "text": [
            "25\n"
          ]
        }
      ]
    },
    {
      "cell_type": "code",
      "source": [
        "l=int(input(\"Largo de la lista \"))\n",
        "for i in range(0,l):\n",
        "  int(input(\"números: \"))"
      ],
      "metadata": {
        "colab": {
          "base_uri": "https://localhost:8080/"
        },
        "id": "0XjF7hP9k_xk",
        "outputId": "f3ac4435-435b-4388-c5ae-a5f75fa4083d"
      },
      "execution_count": 38,
      "outputs": [
        {
          "name": "stdout",
          "output_type": "stream",
          "text": [
            "Largo de la lista 5\n",
            "números: 1\n",
            "números: 2\n",
            "números: 3\n",
            "números: 4\n",
            "números: 5\n"
          ]
        }
      ]
    },
    {
      "cell_type": "code",
      "source": [],
      "metadata": {
        "colab": {
          "base_uri": "https://localhost:8080/"
        },
        "id": "ZvSLSWuYlHAE",
        "outputId": "660a6808-45f6-4d95-fa7e-e122251501f3"
      },
      "execution_count": 30,
      "outputs": [
        {
          "output_type": "execute_result",
          "data": {
            "text/plain": [
              "15"
            ]
          },
          "metadata": {},
          "execution_count": 30
        }
      ]
    },
    {
      "cell_type": "markdown",
      "source": [
        "Ejercicio 6"
      ],
      "metadata": {
        "id": "sktc583dox9k"
      }
    },
    {
      "cell_type": "code",
      "source": [
        "def mult(a,b,c):\n",
        "  lista=[a,b,c]\n",
        "  multt=lista[0]*lista[1]*lista[2]\n",
        "  return multt"
      ],
      "metadata": {
        "id": "1RlgBXykozez"
      },
      "execution_count": 41,
      "outputs": []
    },
    {
      "cell_type": "code",
      "source": [
        "mult(1,2,3)"
      ],
      "metadata": {
        "colab": {
          "base_uri": "https://localhost:8080/"
        },
        "id": "A66t0VPgpBes",
        "outputId": "f78de29b-4999-4777-cdeb-dcf96834edce"
      },
      "execution_count": 42,
      "outputs": [
        {
          "output_type": "execute_result",
          "data": {
            "text/plain": [
              "6"
            ]
          },
          "metadata": {},
          "execution_count": 42
        }
      ]
    },
    {
      "cell_type": "markdown",
      "source": [
        "Ejercicio 7"
      ],
      "metadata": {
        "id": "wgPhlkTGp9Hi"
      }
    },
    {
      "cell_type": "code",
      "source": [
        "def mult(a,b,c,d):\n",
        "  lista=[a,b,c,d]\n",
        "  multt=lista[0]*lista[1]*lista[2]*lista[3]\n",
        "  return multt"
      ],
      "metadata": {
        "id": "3T7WbNI3p8eB"
      },
      "execution_count": 44,
      "outputs": []
    },
    {
      "cell_type": "code",
      "source": [
        "mult(1,2,3,4)"
      ],
      "metadata": {
        "colab": {
          "base_uri": "https://localhost:8080/"
        },
        "id": "THvLS45MqFNZ",
        "outputId": "1533ed69-9ae3-4757-f46d-32bddcdfffe5"
      },
      "execution_count": 45,
      "outputs": [
        {
          "output_type": "execute_result",
          "data": {
            "text/plain": [
              "24"
            ]
          },
          "metadata": {},
          "execution_count": 45
        }
      ]
    },
    {
      "cell_type": "markdown",
      "source": [
        "Ejercicio 8"
      ],
      "metadata": {
        "id": "2el0qwTSqKBR"
      }
    },
    {
      "cell_type": "code",
      "source": [],
      "metadata": {
        "id": "_dytKHz7qN2D"
      },
      "execution_count": null,
      "outputs": []
    },
    {
      "cell_type": "markdown",
      "source": [
        "Ejercicio 9"
      ],
      "metadata": {
        "id": "PdvTU-e6rHvs"
      }
    },
    {
      "cell_type": "code",
      "source": [
        "a=str(input(\"Ingresa una palabra o frase: \"))\n",
        "def invertir(a):\n",
        "  return a[::-1]"
      ],
      "metadata": {
        "colab": {
          "base_uri": "https://localhost:8080/"
        },
        "id": "lf_EXZgvrJtq",
        "outputId": "9d67d5a6-82c3-47ef-d1d6-6a225ee058bb"
      },
      "execution_count": 48,
      "outputs": [
        {
          "name": "stdout",
          "output_type": "stream",
          "text": [
            "Ingresa una palabra o frase: hola mundo\n"
          ]
        }
      ]
    },
    {
      "cell_type": "code",
      "source": [
        "invertir(a)"
      ],
      "metadata": {
        "colab": {
          "base_uri": "https://localhost:8080/",
          "height": 35
        },
        "id": "vpfNh9EgrUkx",
        "outputId": "64f247d2-36a8-4c75-dcfc-8d899b97c07c"
      },
      "execution_count": 49,
      "outputs": [
        {
          "output_type": "execute_result",
          "data": {
            "text/plain": [
              "'odnum aloh'"
            ],
            "application/vnd.google.colaboratory.intrinsic+json": {
              "type": "string"
            }
          },
          "metadata": {},
          "execution_count": 49
        }
      ]
    },
    {
      "cell_type": "markdown",
      "source": [
        "Ejercicio 10"
      ],
      "metadata": {
        "id": "h0si6xterfMi"
      }
    },
    {
      "cell_type": "code",
      "source": [
        "f=int(input(\"Número: \"))\n",
        "def fac(f):\n",
        "  for i in range(0,f):\n",
        "    factorial=f*i*(f-1)\n",
        "  return factorial"
      ],
      "metadata": {
        "colab": {
          "base_uri": "https://localhost:8080/"
        },
        "id": "lHKEqg9brg45",
        "outputId": "cf4fcf73-aef1-44c3-80d5-a1c65e28c34a"
      },
      "execution_count": 52,
      "outputs": [
        {
          "name": "stdout",
          "output_type": "stream",
          "text": [
            "Número: 3\n"
          ]
        }
      ]
    },
    {
      "cell_type": "code",
      "source": [
        "fac(f)"
      ],
      "metadata": {
        "colab": {
          "base_uri": "https://localhost:8080/"
        },
        "id": "F9vkPXi1smci",
        "outputId": "461985af-6b06-49ef-f3d9-d119c89baf08"
      },
      "execution_count": 53,
      "outputs": [
        {
          "output_type": "execute_result",
          "data": {
            "text/plain": [
              "12"
            ]
          },
          "metadata": {},
          "execution_count": 53
        }
      ]
    },
    {
      "cell_type": "markdown",
      "source": [
        "Ejercicio 11"
      ],
      "metadata": {
        "id": "sDuyh8-7szxE"
      }
    },
    {
      "cell_type": "code",
      "source": [],
      "metadata": {
        "id": "dfyW_sYus1kW"
      },
      "execution_count": null,
      "outputs": []
    }
  ]
}